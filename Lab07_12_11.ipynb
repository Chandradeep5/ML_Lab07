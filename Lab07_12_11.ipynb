{
 "cells": [
  {
   "cell_type": "code",
   "execution_count": 22,
   "id": "a1b0ae3d",
   "metadata": {},
   "outputs": [
    {
     "name": "stdout",
     "output_type": "stream",
     "text": [
      "Support Vectors:\n",
      " [[59.681458   0.        35.450397  ...  0.        13.358544   0.       ]\n",
      " [51.86249    0.        25.455917  ...  0.         9.861172   0.       ]\n",
      " [39.226257   0.        45.21802   ...  0.         0.6407909  0.       ]\n",
      " ...\n",
      " [ 0.         0.        53.89913   ...  0.         3.556168   0.       ]\n",
      " [ 0.         0.        37.811558  ...  0.         8.673196   0.       ]\n",
      " [ 0.         0.        29.105694  ...  0.        10.945368   0.       ]]\n"
     ]
    }
   ],
   "source": [
    "\"A1\"\n",
    "import numpy as np\n",
    "from sklearn import svm\n",
    "from sklearn.model_selection import train_test_split\n",
    "\n",
    "# Assume you have X_train and y_train from the previous exercise\n",
    "# Step 1: Load your data from the Excel file\n",
    "data = pd.read_csv(\"D:\\ML_Pro\\extracted_features_charrec_dense7.csv\")\n",
    "\n",
    "# Split the data into features and labels\n",
    "X_train = data.iloc[:, :-1].values\n",
    "y_train = data.iloc[:, -1].values\n",
    "\n",
    "# Replace this with your actual dataset\n",
    "#X_train, X_test, y_train, y_test = train_test_split(your_features, your_labels, test_size=0.2, random_state=42)\n",
    "\n",
    "\n",
    "# Create an SVM classifier\n",
    "clf = svm.SVC()\n",
    "\n",
    "# Train the SVM classifier\n",
    "clf.fit(X_train, y_train)\n",
    "\n",
    "# Get the support vectors\n",
    "support_vectors = clf.support_vectors_\n",
    "\n",
    "# Print or study the support vectors\n",
    "print(\"Support Vectors:\\n\", support_vectors)\n"
   ]
  },
  {
   "cell_type": "code",
   "execution_count": 34,
   "id": "e6931f17",
   "metadata": {},
   "outputs": [
    {
     "name": "stdout",
     "output_type": "stream",
     "text": [
      "Accuracy with linear kernel: 0.67\n",
      "Accuracy with poly kernel: 0.63\n",
      "Accuracy with rbf kernel: 0.68\n",
      "Accuracy with sigmoid kernel: 0.32\n"
     ]
    }
   ],
   "source": [
    "\"A4\"\n",
    "import pandas as pd\n",
    "from sklearn import svm\n",
    "from sklearn.model_selection import train_test_split\n",
    "from sklearn.datasets import make_classification\n",
    "from sklearn.metrics import accuracy_score\n",
    "\n",
    "data = pd.read_csv(\"D:\\ML_Pro\\extracted_features_charrec_dense7.csv\")\n",
    "\n",
    "# Split the data into features and labels\n",
    "X_train = data.iloc[:, :-1].values\n",
    "y_train = data.iloc[:, -1].values\n",
    "\n",
    "# Split the dataset into training and testing sets\n",
    "X_train, X_test, y_train, y_test = train_test_split(X_train, y_train, test_size=0.2, random_state=42)\n",
    "\n",
    "\n",
    "# List of kernel functions to experiment with\n",
    "kernel_functions = ['linear', 'poly', 'rbf', 'sigmoid']\n",
    "\n",
    "# Iterate over different kernel functions\n",
    "for kernel in kernel_functions:\n",
    "    # Create an SVM classifier with the specified kernel\n",
    "    clf = svm.SVC(kernel=kernel)\n",
    "\n",
    "    # Train the SVM classifier\n",
    "    clf.fit(X_train, y_train)\n",
    "\n",
    "    # Make predictions on the test set\n",
    "    y_pred = clf.predict(X_test)\n",
    "\n",
    "    # Calculate and print the accuracy\n",
    "    accuracy = accuracy_score(y_test, y_pred)\n",
    "    print(f\"Accuracy with {kernel} kernel: {accuracy:.2f}\")\n"
   ]
  },
  {
   "cell_type": "code",
   "execution_count": null,
   "id": "f815a546",
   "metadata": {},
   "outputs": [],
   "source": []
  }
 ],
 "metadata": {
  "kernelspec": {
   "display_name": "Python 3 (ipykernel)",
   "language": "python",
   "name": "python3"
  },
  "language_info": {
   "codemirror_mode": {
    "name": "ipython",
    "version": 3
   },
   "file_extension": ".py",
   "mimetype": "text/x-python",
   "name": "python",
   "nbconvert_exporter": "python",
   "pygments_lexer": "ipython3",
   "version": "3.11.4"
  }
 },
 "nbformat": 4,
 "nbformat_minor": 5
}
